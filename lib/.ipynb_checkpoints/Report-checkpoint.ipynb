{
 "cells": [
  {
   "cell_type": "markdown",
   "metadata": {},
   "source": [
    "# Load Data"
   ]
  },
  {
   "cell_type": "code",
   "execution_count": 11,
   "metadata": {},
   "outputs": [],
   "source": [
    "import sys,os\n",
    "import pandas as pd\n",
    "import numpy as np\n",
    "import matplotlib.pyplot as plt\n",
    "import matplotlib.ticker as mtick\n",
    "import seaborn as sns\n",
    "import re\n",
    "plt.style.use('seaborn-pastel')\n",
    "pd.set_option('display.max_colwidth', -1)"
   ]
  },
  {
   "cell_type": "code",
   "execution_count": 2,
   "metadata": {},
   "outputs": [],
   "source": [
    "root = sys.path[0]\n",
    "data_dir = os.path.join(root, '../data')\n",
    "dict_dir = os.path.join(root, '../docs')"
   ]
  },
  {
   "cell_type": "code",
   "execution_count": 3,
   "metadata": {},
   "outputs": [],
   "source": [
    "# loan csv files and add one column that indicates when data is achieved \n",
    "dt = []\n",
    "info = ['2016Q1','2016Q2','2016Q3','2016Q4','2017Q1','2017Q2','2017Q3','2017Q4']\n",
    "for idx in info: \n",
    "    file = \"{}.csv.gz\".format(idx)\n",
    "    temp = pd.read_csv(os.path.join(data_dir, file) , compression='gzip', error_bad_lines=False, index_col=0,low_memory=False)\n",
    "    dt.append(temp)"
   ]
  },
  {
   "cell_type": "code",
   "execution_count": 4,
   "metadata": {},
   "outputs": [],
   "source": [
    "data = pd.concat(dt, axis=0, ignore_index=True)"
   ]
  },
  {
   "cell_type": "code",
   "execution_count": 5,
   "metadata": {},
   "outputs": [],
   "source": [
    "# import data dictionary \n",
    "browse_notes = pd.read_excel( os.path.join( dict_dir, 'data_dictionary.xlsx'),sheet_name= 'browseNotes')\n",
    "loan_stats = pd.read_excel( os.path.join( dict_dir, 'data_dictionary.xlsx'),sheet_name= 'LoanStats')"
   ]
  },
  {
   "cell_type": "code",
   "execution_count": 6,
   "metadata": {},
   "outputs": [
    {
     "name": "stdout",
     "output_type": "stream",
     "text": [
      "There are 877986 rows and 151 columns\n"
     ]
    }
   ],
   "source": [
    "nRow, nCol = data.shape\n",
    "print('There are {} rows and {} columns'.format(nRow, nCol)) "
   ]
  },
  {
   "cell_type": "code",
   "execution_count": 13,
   "metadata": {},
   "outputs": [
    {
     "data": {
      "text/html": [
       "<div>\n",
       "<style scoped>\n",
       "    .dataframe tbody tr th:only-of-type {\n",
       "        vertical-align: middle;\n",
       "    }\n",
       "\n",
       "    .dataframe tbody tr th {\n",
       "        vertical-align: top;\n",
       "    }\n",
       "\n",
       "    .dataframe thead th {\n",
       "        text-align: right;\n",
       "    }\n",
       "</style>\n",
       "<table border=\"1\" class=\"dataframe\">\n",
       "  <thead>\n",
       "    <tr style=\"text-align: right;\">\n",
       "      <th></th>\n",
       "      <th>id</th>\n",
       "      <th>member_id</th>\n",
       "      <th>loan_amnt</th>\n",
       "      <th>funded_amnt</th>\n",
       "      <th>funded_amnt_inv</th>\n",
       "      <th>term</th>\n",
       "      <th>int_rate</th>\n",
       "      <th>installment</th>\n",
       "      <th>grade</th>\n",
       "      <th>sub_grade</th>\n",
       "      <th>...</th>\n",
       "      <th>hardship_payoff_balance_amount</th>\n",
       "      <th>hardship_last_payment_amount</th>\n",
       "      <th>disbursement_method</th>\n",
       "      <th>debt_settlement_flag</th>\n",
       "      <th>debt_settlement_flag_date</th>\n",
       "      <th>settlement_status</th>\n",
       "      <th>settlement_date</th>\n",
       "      <th>settlement_amount</th>\n",
       "      <th>settlement_percentage</th>\n",
       "      <th>settlement_term</th>\n",
       "    </tr>\n",
       "  </thead>\n",
       "  <tbody>\n",
       "    <tr>\n",
       "      <td>697636</td>\n",
       "      <td>116257199</td>\n",
       "      <td>NaN</td>\n",
       "      <td>6000</td>\n",
       "      <td>6000</td>\n",
       "      <td>6000.0</td>\n",
       "      <td>36 months</td>\n",
       "      <td>9.44%</td>\n",
       "      <td>192.03</td>\n",
       "      <td>B</td>\n",
       "      <td>B1</td>\n",
       "      <td>...</td>\n",
       "      <td>NaN</td>\n",
       "      <td>NaN</td>\n",
       "      <td>Cash</td>\n",
       "      <td>N</td>\n",
       "      <td>NaN</td>\n",
       "      <td>NaN</td>\n",
       "      <td>NaN</td>\n",
       "      <td>NaN</td>\n",
       "      <td>NaN</td>\n",
       "      <td>NaN</td>\n",
       "    </tr>\n",
       "    <tr>\n",
       "      <td>479768</td>\n",
       "      <td>97992202</td>\n",
       "      <td>NaN</td>\n",
       "      <td>9600</td>\n",
       "      <td>9600</td>\n",
       "      <td>9600.0</td>\n",
       "      <td>36 months</td>\n",
       "      <td>23.99%</td>\n",
       "      <td>376.59</td>\n",
       "      <td>E</td>\n",
       "      <td>E2</td>\n",
       "      <td>...</td>\n",
       "      <td>NaN</td>\n",
       "      <td>NaN</td>\n",
       "      <td>Cash</td>\n",
       "      <td>N</td>\n",
       "      <td>NaN</td>\n",
       "      <td>NaN</td>\n",
       "      <td>NaN</td>\n",
       "      <td>NaN</td>\n",
       "      <td>NaN</td>\n",
       "      <td>NaN</td>\n",
       "    </tr>\n",
       "    <tr>\n",
       "      <td>7177</td>\n",
       "      <td>75820566</td>\n",
       "      <td>NaN</td>\n",
       "      <td>2000</td>\n",
       "      <td>2000</td>\n",
       "      <td>2000.0</td>\n",
       "      <td>36 months</td>\n",
       "      <td>11.99%</td>\n",
       "      <td>66.42</td>\n",
       "      <td>C</td>\n",
       "      <td>C1</td>\n",
       "      <td>...</td>\n",
       "      <td>NaN</td>\n",
       "      <td>NaN</td>\n",
       "      <td>Cash</td>\n",
       "      <td>N</td>\n",
       "      <td>NaN</td>\n",
       "      <td>NaN</td>\n",
       "      <td>NaN</td>\n",
       "      <td>NaN</td>\n",
       "      <td>NaN</td>\n",
       "      <td>NaN</td>\n",
       "    </tr>\n",
       "    <tr>\n",
       "      <td>231167</td>\n",
       "      <td>75951192</td>\n",
       "      <td>NaN</td>\n",
       "      <td>7000</td>\n",
       "      <td>7000</td>\n",
       "      <td>7000.0</td>\n",
       "      <td>36 months</td>\n",
       "      <td>9.16%</td>\n",
       "      <td>223.12</td>\n",
       "      <td>B</td>\n",
       "      <td>B2</td>\n",
       "      <td>...</td>\n",
       "      <td>NaN</td>\n",
       "      <td>NaN</td>\n",
       "      <td>Cash</td>\n",
       "      <td>N</td>\n",
       "      <td>NaN</td>\n",
       "      <td>NaN</td>\n",
       "      <td>NaN</td>\n",
       "      <td>NaN</td>\n",
       "      <td>NaN</td>\n",
       "      <td>NaN</td>\n",
       "    </tr>\n",
       "    <tr>\n",
       "      <td>347374</td>\n",
       "      <td>94467607</td>\n",
       "      <td>NaN</td>\n",
       "      <td>20000</td>\n",
       "      <td>20000</td>\n",
       "      <td>20000.0</td>\n",
       "      <td>60 months</td>\n",
       "      <td>13.99%</td>\n",
       "      <td>465.27</td>\n",
       "      <td>C</td>\n",
       "      <td>C3</td>\n",
       "      <td>...</td>\n",
       "      <td>NaN</td>\n",
       "      <td>NaN</td>\n",
       "      <td>Cash</td>\n",
       "      <td>N</td>\n",
       "      <td>NaN</td>\n",
       "      <td>NaN</td>\n",
       "      <td>NaN</td>\n",
       "      <td>NaN</td>\n",
       "      <td>NaN</td>\n",
       "      <td>NaN</td>\n",
       "    </tr>\n",
       "  </tbody>\n",
       "</table>\n",
       "<p>5 rows × 151 columns</p>\n",
       "</div>"
      ],
      "text/plain": [
       "               id  member_id  loan_amnt  funded_amnt  funded_amnt_inv  \\\n",
       "697636  116257199 NaN         6000       6000         6000.0            \n",
       "479768  97992202  NaN         9600       9600         9600.0            \n",
       "7177    75820566  NaN         2000       2000         2000.0            \n",
       "231167  75951192  NaN         7000       7000         7000.0            \n",
       "347374  94467607  NaN         20000      20000        20000.0           \n",
       "\n",
       "              term int_rate  installment grade sub_grade  ...  \\\n",
       "697636   36 months  9.44%    192.03       B     B1        ...   \n",
       "479768   36 months  23.99%   376.59       E     E2        ...   \n",
       "7177     36 months  11.99%   66.42        C     C1        ...   \n",
       "231167   36 months  9.16%    223.12       B     B2        ...   \n",
       "347374   60 months  13.99%   465.27       C     C3        ...   \n",
       "\n",
       "       hardship_payoff_balance_amount hardship_last_payment_amount  \\\n",
       "697636 NaN                            NaN                            \n",
       "479768 NaN                            NaN                            \n",
       "7177   NaN                            NaN                            \n",
       "231167 NaN                            NaN                            \n",
       "347374 NaN                            NaN                            \n",
       "\n",
       "       disbursement_method  debt_settlement_flag debt_settlement_flag_date  \\\n",
       "697636  Cash                N                     NaN                        \n",
       "479768  Cash                N                     NaN                        \n",
       "7177    Cash                N                     NaN                        \n",
       "231167  Cash                N                     NaN                        \n",
       "347374  Cash                N                     NaN                        \n",
       "\n",
       "       settlement_status settlement_date settlement_amount  \\\n",
       "697636  NaN               NaN            NaN                 \n",
       "479768  NaN               NaN            NaN                 \n",
       "7177    NaN               NaN            NaN                 \n",
       "231167  NaN               NaN            NaN                 \n",
       "347374  NaN               NaN            NaN                 \n",
       "\n",
       "       settlement_percentage settlement_term  \n",
       "697636 NaN                   NaN              \n",
       "479768 NaN                   NaN              \n",
       "7177   NaN                   NaN              \n",
       "231167 NaN                   NaN              \n",
       "347374 NaN                   NaN              \n",
       "\n",
       "[5 rows x 151 columns]"
      ]
     },
     "metadata": {},
     "output_type": "display_data"
    }
   ],
   "source": [
    "display(data.sample(5) ) "
   ]
  },
  {
   "cell_type": "markdown",
   "metadata": {},
   "source": [
    "# Define the Problem\n",
    "- **The project aims to inform users the “best” loan to invest.**\n",
    "- But which loan should be considered as the \"best\"? \n",
    "- When people make investment, they have tendency to pursue high returns. Generally high return is accompanied with -high risk. While one thing that all investors can agree on is that they don't want to lose all of the principal. \n",
    "- On LC, if investors pick up notes that turn into default in future, then they will lose all of their investments. \n",
    "- Given this, I decided to limit my analysis scope to find attributes that can be used to identify a \"good\" note, and therefore assist inversors' investment decisions. \n",
    "- **Prolem Type: classification with 2 classes: \"Default\" or \"Non-default\".**"
   ]
  },
  {
   "cell_type": "markdown",
   "metadata": {},
   "source": [
    "## Target \n",
    "- There are 7 types of loan statuses. \n",
    "- 4 of these are indeed associated with ongoing loans. \n",
    "- Although the status like *late(31-120 days)* might indicate the investment has go sour, it's still hard to tell the loan will turn into default or not until reach the final stage\n",
    "- So I trim the dataset and  only keeps loans that have reached maturity, that are those in status of 'Fully Paid','Default', 'Charged Off'. And consider loan with status 'Fully Paid' as *Non-default* loans, with'Default' &  'Charged Off' as *Default loans*."
   ]
  },
  {
   "cell_type": "code",
   "execution_count": 12,
   "metadata": {},
   "outputs": [
    {
     "data": {
      "text/html": [
       "<div>\n",
       "<style scoped>\n",
       "    .dataframe tbody tr th:only-of-type {\n",
       "        vertical-align: middle;\n",
       "    }\n",
       "\n",
       "    .dataframe tbody tr th {\n",
       "        vertical-align: top;\n",
       "    }\n",
       "\n",
       "    .dataframe thead th {\n",
       "        text-align: right;\n",
       "    }\n",
       "</style>\n",
       "<table border=\"1\" class=\"dataframe\">\n",
       "  <thead>\n",
       "    <tr style=\"text-align: right;\">\n",
       "      <th></th>\n",
       "      <th>Loan Status</th>\n",
       "      <th>Count</th>\n",
       "      <th>Meaning</th>\n",
       "    </tr>\n",
       "  </thead>\n",
       "  <tbody>\n",
       "    <tr>\n",
       "      <td>0</td>\n",
       "      <td>Current</td>\n",
       "      <td>503359</td>\n",
       "      <td>Loan is up to date on current payments.</td>\n",
       "    </tr>\n",
       "    <tr>\n",
       "      <td>1</td>\n",
       "      <td>Fully Paid</td>\n",
       "      <td>264241</td>\n",
       "      <td>Loan has been fully paid off.</td>\n",
       "    </tr>\n",
       "    <tr>\n",
       "      <td>2</td>\n",
       "      <td>Charged Off</td>\n",
       "      <td>80804</td>\n",
       "      <td>Loan for which there is no longer a reasonable expectation of further payments.</td>\n",
       "    </tr>\n",
       "    <tr>\n",
       "      <td>3</td>\n",
       "      <td>Late (31-120 days)</td>\n",
       "      <td>16259</td>\n",
       "      <td>Loan hasn’t been paid in 31 to 120 days (late on the current payment).</td>\n",
       "    </tr>\n",
       "    <tr>\n",
       "      <td>4</td>\n",
       "      <td>In Grace Period</td>\n",
       "      <td>8052</td>\n",
       "      <td>The loan is past due but still in the grace period of 15 days.</td>\n",
       "    </tr>\n",
       "    <tr>\n",
       "      <td>5</td>\n",
       "      <td>Late (16-30 days)</td>\n",
       "      <td>4505</td>\n",
       "      <td>Loan hasn't been paid in 16 to 30 days (late on the current payment).</td>\n",
       "    </tr>\n",
       "    <tr>\n",
       "      <td>6</td>\n",
       "      <td>Default</td>\n",
       "      <td>766</td>\n",
       "      <td>Loan is defaulted on and no payment has been made for more than 121 days.</td>\n",
       "    </tr>\n",
       "  </tbody>\n",
       "</table>\n",
       "</div>"
      ],
      "text/plain": [
       "          Loan Status   Count  \\\n",
       "0  Current             503359   \n",
       "1  Fully Paid          264241   \n",
       "2  Charged Off         80804    \n",
       "3  Late (31-120 days)  16259    \n",
       "4  In Grace Period     8052     \n",
       "5  Late (16-30 days)   4505     \n",
       "6  Default             766      \n",
       "\n",
       "                                                                           Meaning  \n",
       "0  Loan is up to date on current payments.                                          \n",
       "1  Loan has been fully paid off.                                                    \n",
       "2  Loan for which there is no longer a reasonable expectation of further payments.  \n",
       "3  Loan hasn’t been paid in 31 to 120 days (late on the current payment).           \n",
       "4  The loan is past due but still in the grace period of 15 days.                   \n",
       "5  Loan hasn't been paid in 16 to 30 days (late on the current payment).            \n",
       "6  Loan is defaulted on and no payment has been made for more than 121 days.        "
      ]
     },
     "execution_count": 12,
     "metadata": {},
     "output_type": "execute_result"
    }
   ],
   "source": [
    "meaning = [\n",
    "\"Loan is up to date on current payments.\",\n",
    "\"Loan has been fully paid off.\",\n",
    "\"Loan for which there is no longer a reasonable expectation of further payments.\",\n",
    "\"Loan hasn’t been paid in 31 to 120 days (late on the current payment).\",\n",
    "\"The loan is past due but still in the grace period of 15 days.\",\n",
    "\"Loan hasn't been paid in 16 to 30 days (late on the current payment).\",\n",
    "\"Loan is defaulted on and no payment has been made for more than 121 days.\"]\n",
    "status, count = data['loan_status'].value_counts().index, data['loan_status'].value_counts().values\n",
    "loan_statuses_explanation = pd.DataFrame({'Loan Status': status,'Count': count,'Meaning': meaning})\n",
    "loan_statuses_explanation"
   ]
  },
  {
   "cell_type": "code",
   "execution_count": 14,
   "metadata": {},
   "outputs": [],
   "source": [
    "# Trim data to contain these reached maturity\n",
    "df = data[data.loan_status.isin(['Fully Paid','Default', 'Charged Off'])].copy()\n",
    "# 0: loan is not default; 1: loan is default \n",
    "target = np.where(df.loan_status == 'Fully Paid', 0, 1) \n",
    "df['default'] = target"
   ]
  },
  {
   "cell_type": "code",
   "execution_count": 15,
   "metadata": {},
   "outputs": [
    {
     "data": {
      "image/png": "[encoded data removed]",
      "text/plain": [
       "<Figure size 432x216 with 1 Axes>"
      ]
     },
     "metadata": {
      "needs_background": "light"
     },
     "output_type": "display_data"
    }
   ],
   "source": [
    "loan_status_dist = df['default'].value_counts(normalize=True) * 100\n",
    "ax= loan_status_dist.plot(kind='barh', figsize=(6,3),fontsize=12, rot = 0, color =['lightcoral', 'cadetblue'] )\n",
    "plt.figtext(0.2, 0.68, str(loan_status_dist[1].round(2))+'%', fontsize=8)\n",
    "plt.figtext(0.5, 0.3, str(loan_status_dist[0].round(2))+'%', fontsize=8)\n",
    "plt.title('Default Loan Distribution', fontsize = 15)\n",
    "ax.xaxis.set_major_formatter(mtick.PercentFormatter())\n",
    "ax.set_yticklabels(['Not Default','Default'])\n",
    "plt.show()"
   ]
  },
  {
   "cell_type": "markdown",
   "metadata": {},
   "source": [
    "## Predictors \n",
    "- When investors are browsing the notes, they can filter notes based on some attributes, and these attributes are recorded in the 'Browse Notes' in data dictionary. *For more info on browse note, check the posting [here](https://blog.lendingclub.com/expanded-credit-att/) and [here](https://www.lendingclub.com/public/browseNotesHelp.action)*\n",
    "- The dataset contains 151 fields, but not all of them are included in browse note, so I only need to use these attributes that appear in both loanstats and browsenotes, as these are the ones that are accessible to investors at the time they pick notes"
   ]
  },
  {
   "cell_type": "code",
   "execution_count": 16,
   "metadata": {},
   "outputs": [],
   "source": [
    "# detect attributes that investors are not able to browse, and save them in the array \"not_avail_to_investor\"\n",
    "browse_notes_fileds = browse_notes['BrowseNotesFile'].dropna()\n",
    "browse_notes_fileds_reg = [x.replace(\"_\", \"\").strip().lower() for x in browse_notes_fileds.tolist()]\n",
    "loan_fileds_reg=[x.replace(\"_\", \"\").lower() for x in df.columns.values.tolist()]\n",
    "not_avail_to_investor = np.setdiff1d(loan_fileds_reg, browse_notes_fileds_reg)"
   ]
  },
  {
   "cell_type": "code",
   "execution_count": 17,
   "metadata": {},
   "outputs": [],
   "source": [
    "# remove attributes in loan_status that are not available to investors and add back some fields  \n",
    "not_avail_to_investor_indx = np.where(np.isin(loan_fileds_reg, not_avail_to_investor))\n",
    "predictors = np.delete(df.columns.values,not_avail_to_investor_indx).tolist() "
   ]
  },
  {
   "cell_type": "code",
   "execution_count": 18,
   "metadata": {},
   "outputs": [],
   "source": [
    "# double checking these fields, I found some fields are named differently in browsenotes, but they have the same description,\n",
    "# for example \"mths_since_recent_inq\" is named as \"mthsSinceMostRecentInq\" in browsenotes \n",
    "# so I manually added these fields back to predictors set \n",
    "manual_add  = ['verification_status', 'mths_since_recent_inq', 'mo_sin_old_il_acct',\n",
    "           'mths_since_recent_bc_dlq','verification_status_joint' ]\n",
    "predictors += manual_add"
   ]
  },
  {
   "cell_type": "code",
   "execution_count": 301,
   "metadata": {},
   "outputs": [],
   "source": [
    "df_2 = df[predictors + ['default']].copy()"
   ]
  },
  {
   "cell_type": "code",
   "execution_count": 302,
   "metadata": {},
   "outputs": [
    {
     "data": {
      "text/plain": [
       "(345811, 110)"
      ]
     },
     "execution_count": 302,
     "metadata": {},
     "output_type": "execute_result"
    }
   ],
   "source": [
    "df_2.shape"
   ]
  },
  {
   "cell_type": "markdown",
   "metadata": {},
   "source": [
    "#####  Predictor Categories\n",
    "- loan\n",
    "    - loan characteristics\n",
    "- borrower\n",
    "    - borrower characteristics\n",
    "    - borrower indebtness \n",
    "    - current financial situation and credit history \n",
    "    - borrower assessment "
   ]
  },
  {
   "cell_type": "code",
   "execution_count": 25,
   "metadata": {},
   "outputs": [],
   "source": [
    "dep_varibele = ['default']"
   ]
  },
  {
   "cell_type": "code",
   "execution_count": 26,
   "metadata": {},
   "outputs": [],
   "source": [
    "l_charct = ['earliest_cr_line','application_type', 'desc','funded_amnt','id', 'initial_list_status', 'installment', \n",
    "           'loan_amnt', 'member_id', 'purpose', 'term', 'title','url']"
   ]
  },
  {
   "cell_type": "code",
   "execution_count": 27,
   "metadata": {},
   "outputs": [],
   "source": [
    "r = re.compile(\"^sec_.*|.*_joint$\")\n",
    "sec_app = list(filter(r.match, df_2.columns.values.tolist()))"
   ]
  },
  {
   "cell_type": "code",
   "execution_count": 28,
   "metadata": {},
   "outputs": [],
   "source": [
    "b_asses = ['fico_range_high', 'fico_range_low','grade','int_rate','sub_grade']\n",
    "b_charct = ['addr_state','annual_inc', 'emp_length','emp_title', 'home_ownership','verification_status','zip_code']\n",
    "b_indebt = ['dti']"
   ]
  },
  {
   "cell_type": "code",
   "execution_count": 29,
   "metadata": {},
   "outputs": [],
   "source": [
    "b_fin = list(set(df_2.columns.values.tolist()).difference(set(dep_varibele + l_charct +b_asses + b_charct + b_indebt +sec_app)))"
   ]
  },
  {
   "cell_type": "markdown",
   "metadata": {},
   "source": [
    "### Predictor analysis and Missng values by category "
   ]
  },
  {
   "cell_type": "code",
   "execution_count": 30,
   "metadata": {},
   "outputs": [],
   "source": [
    "def miss_value_table(dt):\n",
    "    miss_val_cnt = dt.isnull().sum()\n",
    "    miss_val_pct = dt.isnull().sum()/len(dt)*100\n",
    "    miss_val_table  = pd.concat([miss_val_cnt,miss_val_pct],axis =1 )\n",
    "    miss_val_table.columns = ['Num_of_missing', \"Pect_of_missing\"]\n",
    "    miss_val_table_sec = miss_val_table.loc[miss_val_table['Num_of_missing']!=0,:].sort_values(by=['Num_of_missing'], ascending = False)\n",
    "    return miss_val_table_sec"
   ]
  },
  {
   "cell_type": "code",
   "execution_count": 31,
   "metadata": {},
   "outputs": [],
   "source": [
    "def univariate_plot(df,pred,predtype):\n",
    "    \n",
    "    # Continuos   : Distribution & Boxplot will be plotted.         \n",
    "    if predtype == 'cont':\n",
    "        fig, ax=plt.subplots(nrows =1,ncols=2,figsize=(10,4))\n",
    "        ax[0].set_title(\"Distribution Plot\")\n",
    "        sns.distplot(df[pred],ax=ax[0])\n",
    "        ax[1].set_title(\"Box Plot\")\n",
    "        sns.boxplot(data = df, x=pred,ax=ax[1],orient='v')\n",
    "    \n",
    "    #  Categorical : Countplot will be plotted.\n",
    "    if predtype == 'cat':\n",
    "        prop_df = (df[pred]\n",
    "                   .value_counts(normalize=True)\n",
    "                   .rename('prop')\n",
    "                    .reset_index())\n",
    "        p = plt.figure(figsize=(6,4))   \n",
    "        p = sns.barplot(x='index',y = 'prop', data= prop_df)\n",
    "        _ = plt.xlabel(pred)\n",
    "        _ = plt.setp(p.get_xticklabels(), rotation=90) \n",
    "        for i, j in zip(prop_df.index.tolist(), prop_df.prop.tolist()):\n",
    "            _ = plt.text(i-0.05, j+0.01, str(round(j*100,2))+'%', fontsize = 8)\n",
    "        _ = plt.title('Distribution of {}'.format(pred))\n",
    "    else:\n",
    "        exit\n",
    "    \n",
    "    plt.show()   "
   ]
  },
  {
   "cell_type": "code",
   "execution_count": 32,
   "metadata": {},
   "outputs": [],
   "source": [
    "def pred_by_default_plot(df, pred):\n",
    "    default_by_pred = (df.groupby([pred])['default']\n",
    "                     .value_counts(normalize=True)\n",
    "                     .rename('percentage')\n",
    "                     .mul(100)\n",
    "                     .reset_index()     \n",
    "                     .sort_values('percentage'))\n",
    "    p = plt.figure(figsize=(6,4)) \n",
    "    p = sns.barplot(x=pred, y=\"percentage\", hue=\"default\", data=default_by_pred)\n",
    "    _ = plt.setp(p.get_xticklabels(), rotation=90)  # Rotate labels\n",
    "    _ = plt.title(\"Default Rate, Breaking Down by {}\".format(pred))\n",
    "    plt.show()"
   ]
  },
  {
   "cell_type": "markdown",
   "metadata": {},
   "source": [
    "#### 1. secondary application "
   ]
  },
  {
   "cell_type": "code",
   "execution_count": 33,
   "metadata": {
    "scrolled": true
   },
   "outputs": [
    {
     "data": {
      "text/html": [
       "<div>\n",
       "<style scoped>\n",
       "    .dataframe tbody tr th:only-of-type {\n",
       "        vertical-align: middle;\n",
       "    }\n",
       "\n",
       "    .dataframe tbody tr th {\n",
       "        vertical-align: top;\n",
       "    }\n",
       "\n",
       "    .dataframe thead th {\n",
       "        text-align: right;\n",
       "    }\n",
       "</style>\n",
       "<table border=\"1\" class=\"dataframe\">\n",
       "  <thead>\n",
       "    <tr style=\"text-align: right;\">\n",
       "      <th></th>\n",
       "      <th>annual_inc_joint</th>\n",
       "      <th>dti_joint</th>\n",
       "      <th>revol_bal_joint</th>\n",
       "      <th>sec_app_fico_range_low</th>\n",
       "      <th>sec_app_fico_range_high</th>\n",
       "      <th>sec_app_earliest_cr_line</th>\n",
       "      <th>sec_app_inq_last_6mths</th>\n",
       "      <th>sec_app_mort_acc</th>\n",
       "      <th>sec_app_open_acc</th>\n",
       "      <th>sec_app_revol_util</th>\n",
       "      <th>sec_app_open_act_il</th>\n",
       "      <th>sec_app_num_rev_accts</th>\n",
       "      <th>sec_app_chargeoff_within_12_mths</th>\n",
       "      <th>sec_app_collections_12_mths_ex_med</th>\n",
       "      <th>sec_app_mths_since_last_major_derog</th>\n",
       "      <th>verification_status_joint</th>\n",
       "    </tr>\n",
       "  </thead>\n",
       "  <tbody>\n",
       "    <tr>\n",
       "      <td>0</td>\n",
       "      <td>NaN</td>\n",
       "      <td>NaN</td>\n",
       "      <td>NaN</td>\n",
       "      <td>NaN</td>\n",
       "      <td>NaN</td>\n",
       "      <td>NaN</td>\n",
       "      <td>NaN</td>\n",
       "      <td>NaN</td>\n",
       "      <td>NaN</td>\n",
       "      <td>NaN</td>\n",
       "      <td>NaN</td>\n",
       "      <td>NaN</td>\n",
       "      <td>NaN</td>\n",
       "      <td>NaN</td>\n",
       "      <td>NaN</td>\n",
       "      <td>NaN</td>\n",
       "    </tr>\n",
       "    <tr>\n",
       "      <td>4</td>\n",
       "      <td>NaN</td>\n",
       "      <td>NaN</td>\n",
       "      <td>NaN</td>\n",
       "      <td>NaN</td>\n",
       "      <td>NaN</td>\n",
       "      <td>NaN</td>\n",
       "      <td>NaN</td>\n",
       "      <td>NaN</td>\n",
       "      <td>NaN</td>\n",
       "      <td>NaN</td>\n",
       "      <td>NaN</td>\n",
       "      <td>NaN</td>\n",
       "      <td>NaN</td>\n",
       "      <td>NaN</td>\n",
       "      <td>NaN</td>\n",
       "      <td>NaN</td>\n",
       "    </tr>\n",
       "    <tr>\n",
       "      <td>5</td>\n",
       "      <td>NaN</td>\n",
       "      <td>NaN</td>\n",
       "      <td>NaN</td>\n",
       "      <td>NaN</td>\n",
       "      <td>NaN</td>\n",
       "      <td>NaN</td>\n",
       "      <td>NaN</td>\n",
       "      <td>NaN</td>\n",
       "      <td>NaN</td>\n",
       "      <td>NaN</td>\n",
       "      <td>NaN</td>\n",
       "      <td>NaN</td>\n",
       "      <td>NaN</td>\n",
       "      <td>NaN</td>\n",
       "      <td>NaN</td>\n",
       "      <td>NaN</td>\n",
       "    </tr>\n",
       "  </tbody>\n",
       "</table>\n",
       "</div>"
      ],
      "text/plain": [
       "   annual_inc_joint  dti_joint  revol_bal_joint  sec_app_fico_range_low  \\\n",
       "0 NaN               NaN        NaN              NaN                       \n",
       "4 NaN               NaN        NaN              NaN                       \n",
       "5 NaN               NaN        NaN              NaN                       \n",
       "\n",
       "   sec_app_fico_range_high sec_app_earliest_cr_line  sec_app_inq_last_6mths  \\\n",
       "0 NaN                       NaN                     NaN                       \n",
       "4 NaN                       NaN                     NaN                       \n",
       "5 NaN                       NaN                     NaN                       \n",
       "\n",
       "   sec_app_mort_acc  sec_app_open_acc  sec_app_revol_util  \\\n",
       "0 NaN               NaN               NaN                   \n",
       "4 NaN               NaN               NaN                   \n",
       "5 NaN               NaN               NaN                   \n",
       "\n",
       "   sec_app_open_act_il  sec_app_num_rev_accts  \\\n",
       "0 NaN                  NaN                      \n",
       "4 NaN                  NaN                      \n",
       "5 NaN                  NaN                      \n",
       "\n",
       "   sec_app_chargeoff_within_12_mths  sec_app_collections_12_mths_ex_med  \\\n",
       "0 NaN                               NaN                                   \n",
       "4 NaN                               NaN                                   \n",
       "5 NaN                               NaN                                   \n",
       "\n",
       "   sec_app_mths_since_last_major_derog verification_status_joint  \n",
       "0 NaN                                   NaN                       \n",
       "4 NaN                                   NaN                       \n",
       "5 NaN                                   NaN                       "
      ]
     },
     "execution_count": 33,
     "metadata": {},
     "output_type": "execute_result"
    }
   ],
   "source": [
    "df_2.filter(sec_app).head(3)"
   ]
  },
  {
   "cell_type": "code",
   "execution_count": 34,
   "metadata": {},
   "outputs": [
    {
     "data": {
      "text/html": [
       "<div>\n",
       "<style scoped>\n",
       "    .dataframe tbody tr th:only-of-type {\n",
       "        vertical-align: middle;\n",
       "    }\n",
       "\n",
       "    .dataframe tbody tr th {\n",
       "        vertical-align: top;\n",
       "    }\n",
       "\n",
       "    .dataframe thead th {\n",
       "        text-align: right;\n",
       "    }\n",
       "</style>\n",
       "<table border=\"1\" class=\"dataframe\">\n",
       "  <thead>\n",
       "    <tr style=\"text-align: right;\">\n",
       "      <th></th>\n",
       "      <th>Num_of_missing</th>\n",
       "      <th>Pect_of_missing</th>\n",
       "    </tr>\n",
       "  </thead>\n",
       "  <tbody>\n",
       "    <tr>\n",
       "      <td>sec_app_mths_since_last_major_derog</td>\n",
       "      <td>343207</td>\n",
       "      <td>99.246988</td>\n",
       "    </tr>\n",
       "    <tr>\n",
       "      <td>sec_app_revol_util</td>\n",
       "      <td>338706</td>\n",
       "      <td>97.945409</td>\n",
       "    </tr>\n",
       "    <tr>\n",
       "      <td>revol_bal_joint</td>\n",
       "      <td>338596</td>\n",
       "      <td>97.913600</td>\n",
       "    </tr>\n",
       "    <tr>\n",
       "      <td>sec_app_fico_range_low</td>\n",
       "      <td>338595</td>\n",
       "      <td>97.913311</td>\n",
       "    </tr>\n",
       "    <tr>\n",
       "      <td>sec_app_fico_range_high</td>\n",
       "      <td>338595</td>\n",
       "      <td>97.913311</td>\n",
       "    </tr>\n",
       "    <tr>\n",
       "      <td>sec_app_earliest_cr_line</td>\n",
       "      <td>338595</td>\n",
       "      <td>97.913311</td>\n",
       "    </tr>\n",
       "    <tr>\n",
       "      <td>sec_app_inq_last_6mths</td>\n",
       "      <td>338595</td>\n",
       "      <td>97.913311</td>\n",
       "    </tr>\n",
       "    <tr>\n",
       "      <td>sec_app_mort_acc</td>\n",
       "      <td>338595</td>\n",
       "      <td>97.913311</td>\n",
       "    </tr>\n",
       "    <tr>\n",
       "      <td>sec_app_open_acc</td>\n",
       "      <td>338595</td>\n",
       "      <td>97.913311</td>\n",
       "    </tr>\n",
       "    <tr>\n",
       "      <td>sec_app_open_act_il</td>\n",
       "      <td>338595</td>\n",
       "      <td>97.913311</td>\n",
       "    </tr>\n",
       "    <tr>\n",
       "      <td>sec_app_num_rev_accts</td>\n",
       "      <td>338595</td>\n",
       "      <td>97.913311</td>\n",
       "    </tr>\n",
       "    <tr>\n",
       "      <td>sec_app_chargeoff_within_12_mths</td>\n",
       "      <td>338595</td>\n",
       "      <td>97.913311</td>\n",
       "    </tr>\n",
       "    <tr>\n",
       "      <td>sec_app_collections_12_mths_ex_med</td>\n",
       "      <td>338595</td>\n",
       "      <td>97.913311</td>\n",
       "    </tr>\n",
       "    <tr>\n",
       "      <td>annual_inc_joint</td>\n",
       "      <td>333347</td>\n",
       "      <td>96.395719</td>\n",
       "    </tr>\n",
       "    <tr>\n",
       "      <td>dti_joint</td>\n",
       "      <td>333347</td>\n",
       "      <td>96.395719</td>\n",
       "    </tr>\n",
       "    <tr>\n",
       "      <td>verification_status_joint</td>\n",
       "      <td>333347</td>\n",
       "      <td>96.395719</td>\n",
       "    </tr>\n",
       "  </tbody>\n",
       "</table>\n",
       "</div>"
      ],
      "text/plain": [
       "                                     Num_of_missing  Pect_of_missing\n",
       "sec_app_mths_since_last_major_derog  343207          99.246988      \n",
       "sec_app_revol_util                   338706          97.945409      \n",
       "revol_bal_joint                      338596          97.913600      \n",
       "sec_app_fico_range_low               338595          97.913311      \n",
       "sec_app_fico_range_high              338595          97.913311      \n",
       "sec_app_earliest_cr_line             338595          97.913311      \n",
       "sec_app_inq_last_6mths               338595          97.913311      \n",
       "sec_app_mort_acc                     338595          97.913311      \n",
       "sec_app_open_acc                     338595          97.913311      \n",
       "sec_app_open_act_il                  338595          97.913311      \n",
       "sec_app_num_rev_accts                338595          97.913311      \n",
       "sec_app_chargeoff_within_12_mths     338595          97.913311      \n",
       "sec_app_collections_12_mths_ex_med   338595          97.913311      \n",
       "annual_inc_joint                     333347          96.395719      \n",
       "dti_joint                            333347          96.395719      \n",
       "verification_status_joint            333347          96.395719      "
      ]
     },
     "execution_count": 34,
     "metadata": {},
     "output_type": "execute_result"
    }
   ],
   "source": [
    "# check missing \n",
    "miss_value_table( df_2.filter(sec_app))"
   ]
  },
  {
   "cell_type": "markdown",
   "metadata": {},
   "source": [
    "These have high proportion of missing values and many of them are of similar amount of missing. I found there are two reasons causing this:\n",
    "1. These fields are related to joint application, so if it's a individual loan, then this filed is not applicable => systematic missing\n",
    "2. LC added 13 new features realted to joint application, and the fields will only apply for new joint application loans as of March 9, 2017 and going forward. => random missing due to broken data collection process\n",
    "(*check [website](https://help.lendingclub.com/hc/en-us/articles/115004323368-Recent-and-upcoming-changes-to-the-downloadable-data-files-and-API-services) for more info*)"
   ]
  },
  {
   "cell_type": "code",
   "execution_count": 35,
   "metadata": {
    "scrolled": true
   },
   "outputs": [
    {
     "data": {
      "image/png": "[encoded data removed]",
      "text/plain": [
       "<Figure size 432x288 with 1 Axes>"
      ]
     },
     "metadata": {
      "needs_background": "light"
     },
     "output_type": "display_data"
    }
   ],
   "source": [
    "univariate_plot(df_2,'application_type' ,'cat')"
   ]
  },
  {
   "cell_type": "code",
   "execution_count": 36,
   "metadata": {
    "scrolled": false
   },
   "outputs": [
    {
     "data": {
      "image/png": "[encoded data removed]",
      "text/plain": [
       "<Figure size 432x288 with 1 Axes>"
      ]
     },
     "metadata": {
      "needs_background": "light"
     },
     "output_type": "display_data"
    }
   ],
   "source": [
    "pred_by_default_plot(df_2,'application_type')"
   ]
  },
  {
   "cell_type": "markdown",
   "metadata": {},
   "source": [
    "- The default rates for individual or joint application are alomost the same. \n",
    "- Given the high missing rata and small amount of joint applications included, it's better to limit analysis  scope to individual loans only, and removed secondary applicants from the dataset along with all the variables in this category"
   ]
  },
  {
   "cell_type": "code",
   "execution_count": 303,
   "metadata": {
    "scrolled": true
   },
   "outputs": [],
   "source": [
    "df_3 = df_2[df_2.application_type == 'Individual'].drop(sec_app + ['application_type'], axis =1).copy()"
   ]
  },
  {
   "cell_type": "code",
   "execution_count": 304,
   "metadata": {},
   "outputs": [
    {
     "data": {
      "text/plain": [
       "(333347, 93)"
      ]
     },
     "execution_count": 304,
     "metadata": {},
     "output_type": "execute_result"
    }
   ],
   "source": [
    "df_3.shape"
   ]
  },
  {
   "cell_type": "markdown",
   "metadata": {},
   "source": [
    "#### 2.  loan characteristics\n",
    "- After checking these variables, found some add no relevant information with regards to predicting defaults ( id, member id)  or contain substatial amount of missings(desc) or contains redundant info (such as title); therefore, I dropped fiels url,id, member id, desc, tile\n",
    "- loan_amnt and funded_amnt: redundant, drop funded_amnt\n",
    "- earliest_cr_line  convert to datetime "
   ]
  },
  {
   "cell_type": "code",
   "execution_count": 343,
   "metadata": {
    "scrolled": false
   },
   "outputs": [
    {
     "data": {
      "text/html": [
       "<div>\n",
       "<style scoped>\n",
       "    .dataframe tbody tr th:only-of-type {\n",
       "        vertical-align: middle;\n",
       "    }\n",
       "\n",
       "    .dataframe tbody tr th {\n",
       "        vertical-align: top;\n",
       "    }\n",
       "\n",
       "    .dataframe thead th {\n",
       "        text-align: right;\n",
       "    }\n",
       "</style>\n",
       "<table border=\"1\" class=\"dataframe\">\n",
       "  <thead>\n",
       "    <tr style=\"text-align: right;\">\n",
       "      <th></th>\n",
       "      <th>earliest_cr_line</th>\n",
       "      <th>desc</th>\n",
       "      <th>funded_amnt</th>\n",
       "      <th>id</th>\n",
       "      <th>initial_list_status</th>\n",
       "      <th>installment</th>\n",
       "      <th>loan_amnt</th>\n",
       "      <th>member_id</th>\n",
       "      <th>purpose</th>\n",
       "      <th>term</th>\n",
       "      <th>title</th>\n",
       "      <th>url</th>\n",
       "    </tr>\n",
       "  </thead>\n",
       "  <tbody>\n",
       "    <tr>\n",
       "      <td>0</td>\n",
       "      <td>Jun-05</td>\n",
       "      <td>NaN</td>\n",
       "      <td>8400</td>\n",
       "      <td>75910406</td>\n",
       "      <td>w</td>\n",
       "      <td>270.06</td>\n",
       "      <td>8400</td>\n",
       "      <td>NaN</td>\n",
       "      <td>debt_consolidation</td>\n",
       "      <td>36 months</td>\n",
       "      <td>Debt consolidation</td>\n",
       "      <td>https://lendingclub.com/browse/loanDetail.action?loan_id=75910406</td>\n",
       "    </tr>\n",
       "    <tr>\n",
       "      <td>4</td>\n",
       "      <td>Jun-01</td>\n",
       "      <td>NaN</td>\n",
       "      <td>20000</td>\n",
       "      <td>76003313</td>\n",
       "      <td>w</td>\n",
       "      <td>664.20</td>\n",
       "      <td>20000</td>\n",
       "      <td>NaN</td>\n",
       "      <td>debt_consolidation</td>\n",
       "      <td>36 months</td>\n",
       "      <td>Debt consolidation</td>\n",
       "      <td>https://lendingclub.com/browse/loanDetail.action?loan_id=76003313</td>\n",
       "    </tr>\n",
       "    <tr>\n",
       "      <td>5</td>\n",
       "      <td>Jul-05</td>\n",
       "      <td>NaN</td>\n",
       "      <td>13625</td>\n",
       "      <td>76083306</td>\n",
       "      <td>w</td>\n",
       "      <td>326.36</td>\n",
       "      <td>13625</td>\n",
       "      <td>NaN</td>\n",
       "      <td>credit_card</td>\n",
       "      <td>60 months</td>\n",
       "      <td>Credit card refinancing</td>\n",
       "      <td>https://lendingclub.com/browse/loanDetail.action?loan_id=76083306</td>\n",
       "    </tr>\n",
       "  </tbody>\n",
       "</table>\n",
       "</div>"
      ],
      "text/plain": [
       "  earliest_cr_line desc  funded_amnt        id initial_list_status  \\\n",
       "0  Jun-05           NaN  8400         75910406  w                    \n",
       "4  Jun-01           NaN  20000        76003313  w                    \n",
       "5  Jul-05           NaN  13625        76083306  w                    \n",
       "\n",
       "   installment  loan_amnt  member_id             purpose        term  \\\n",
       "0  270.06       8400      NaN         debt_consolidation   36 months   \n",
       "4  664.20       20000     NaN         debt_consolidation   36 months   \n",
       "5  326.36       13625     NaN         credit_card          60 months   \n",
       "\n",
       "                     title  \\\n",
       "0  Debt consolidation        \n",
       "4  Debt consolidation        \n",
       "5  Credit card refinancing   \n",
       "\n",
       "                                                                 url  \n",
       "0  https://lendingclub.com/browse/loanDetail.action?loan_id=75910406  \n",
       "4  https://lendingclub.com/browse/loanDetail.action?loan_id=76003313  \n",
       "5  https://lendingclub.com/browse/loanDetail.action?loan_id=76083306  "
      ]
     },
     "execution_count": 343,
     "metadata": {},
     "output_type": "execute_result"
    }
   ],
   "source": [
    "df_3.filter(l_charct).head(3)"
   ]
  },
  {
   "cell_type": "code",
   "execution_count": 40,
   "metadata": {
    "scrolled": false
   },
   "outputs": [
    {
     "data": {
      "text/html": [
       "<div>\n",
       "<style scoped>\n",
       "    .dataframe tbody tr th:only-of-type {\n",
       "        vertical-align: middle;\n",
       "    }\n",
       "\n",
       "    .dataframe tbody tr th {\n",
       "        vertical-align: top;\n",
       "    }\n",
       "\n",
       "    .dataframe thead th {\n",
       "        text-align: right;\n",
       "    }\n",
       "</style>\n",
       "<table border=\"1\" class=\"dataframe\">\n",
       "  <thead>\n",
       "    <tr style=\"text-align: right;\">\n",
       "      <th></th>\n",
       "      <th>Num_of_missing</th>\n",
       "      <th>Pect_of_missing</th>\n",
       "    </tr>\n",
       "  </thead>\n",
       "  <tbody>\n",
       "    <tr>\n",
       "      <td>member_id</td>\n",
       "      <td>333347</td>\n",
       "      <td>100.000000</td>\n",
       "    </tr>\n",
       "    <tr>\n",
       "      <td>desc</td>\n",
       "      <td>333330</td>\n",
       "      <td>99.994900</td>\n",
       "    </tr>\n",
       "    <tr>\n",
       "      <td>title</td>\n",
       "      <td>11982</td>\n",
       "      <td>3.594453</td>\n",
       "    </tr>\n",
       "  </tbody>\n",
       "</table>\n",
       "</div>"
      ],
      "text/plain": [
       "           Num_of_missing  Pect_of_missing\n",
       "member_id  333347          100.000000     \n",
       "desc       333330          99.994900      \n",
       "title      11982           3.594453       "
      ]
     },
     "execution_count": 40,
     "metadata": {},
     "output_type": "execute_result"
    }
   ],
   "source": [
    "# check missing \n",
    "miss_value_table(df_3.filter(l_charct))"
   ]
  },
  {
   "cell_type": "code",
   "execution_count": 41,
   "metadata": {
    "scrolled": true
   },
   "outputs": [
    {
     "name": "stdout",
     "output_type": "stream",
     "text": [
      "There are 0 loan amount not equal to funded amount\n"
     ]
    }
   ],
   "source": [
    "print(\"There are {a} loan amount not equal to funded amount\". format(a =  sum(df_3.loan_amnt != df_3.funded_amnt) ))"
   ]
  },
  {
   "cell_type": "code",
   "execution_count": 309,
   "metadata": {},
   "outputs": [],
   "source": [
    "df_4 = df_3.drop(['url','id','desc', 'member_id','title','funded_amnt'], axis=1).copy()"
   ]
  },
  {
   "cell_type": "code",
   "execution_count": 339,
   "metadata": {},
   "outputs": [],
   "source": [
    "# convert earliest_cr_line to datetime \n",
    "df_4['earliest_cr_line'] = pd.to_datetime(df_4['earliest_cr_line'], format = \"%b-%y\").apply(lambda x: x.strftime('%Y-%m'))"
   ]
  },
  {
   "cell_type": "markdown",
   "metadata": {},
   "source": [
    "#### 3.  borrower characteristics\n",
    "- Only first 3 number of zip code is visible, it is also redundant as state_info also provided => consider to **drop zip code**\n",
    "- The emp title is provided by borrower, which contains 96649 different titles , out of which 21201 is missing,Due to the huge number of job titles and the missing entries => consider to **dropped emp_title**\n",
    "- **emp length** has missing values, which might due to: \n",
    "    1. the person is  during unemployment\n",
    "    2. the person is in employment, but didn't to put this field during application\n",
    "    3. however, the default rate for the above two types doesn't differ too much; but both types have default rate (above 30%) that higher than the others in employment (on average at 22%) \n",
    "    4.  **encode emp length missing value to '0 year'**\n",
    "- **The default rate is  varies by state, add visulization plot to show**"
   ]
  },
  {
   "cell_type": "code",
   "execution_count": 344,
   "metadata": {
    "scrolled": true
   },
   "outputs": [
    {
     "data": {
      "text/html": [
       "<div>\n",
       "<style scoped>\n",
       "    .dataframe tbody tr th:only-of-type {\n",
       "        vertical-align: middle;\n",
       "    }\n",
       "\n",
       "    .dataframe tbody tr th {\n",
       "        vertical-align: top;\n",
       "    }\n",
       "\n",
       "    .dataframe thead th {\n",
       "        text-align: right;\n",
       "    }\n",
       "</style>\n",
       "<table border=\"1\" class=\"dataframe\">\n",
       "  <thead>\n",
       "    <tr style=\"text-align: right;\">\n",
       "      <th></th>\n",
       "      <th>addr_state</th>\n",
       "      <th>annual_inc</th>\n",
       "      <th>emp_length</th>\n",
       "      <th>emp_title</th>\n",
       "      <th>home_ownership</th>\n",
       "      <th>verification_status</th>\n",
       "      <th>zip_code</th>\n",
       "    </tr>\n",
       "  </thead>\n",
       "  <tbody>\n",
       "    <tr>\n",
       "      <td>0</td>\n",
       "      <td>GA</td>\n",
       "      <td>66000.0</td>\n",
       "      <td>2 years</td>\n",
       "      <td>RV Tech</td>\n",
       "      <td>MORTGAGE</td>\n",
       "      <td>Not Verified</td>\n",
       "      <td>301xx</td>\n",
       "    </tr>\n",
       "    <tr>\n",
       "      <td>4</td>\n",
       "      <td>FL</td>\n",
       "      <td>49000.0</td>\n",
       "      <td>10+ years</td>\n",
       "      <td>rn case manager</td>\n",
       "      <td>MORTGAGE</td>\n",
       "      <td>Source Verified</td>\n",
       "      <td>321xx</td>\n",
       "    </tr>\n",
       "    <tr>\n",
       "      <td>5</td>\n",
       "      <td>IN</td>\n",
       "      <td>50000.0</td>\n",
       "      <td>1 year</td>\n",
       "      <td>Director of Sales &amp; Marketing</td>\n",
       "      <td>MORTGAGE</td>\n",
       "      <td>Not Verified</td>\n",
       "      <td>476xx</td>\n",
       "    </tr>\n",
       "  </tbody>\n",
       "</table>\n",
       "</div>"
      ],
      "text/plain": [
       "  addr_state  annual_inc emp_length                       emp_title  \\\n",
       "0  GA         66000.0     2 years    RV Tech                          \n",
       "4  FL         49000.0     10+ years  rn case manager                  \n",
       "5  IN         50000.0     1 year     Director of Sales & Marketing    \n",
       "\n",
       "  home_ownership verification_status zip_code  \n",
       "0  MORTGAGE       Not Verified        301xx    \n",
       "4  MORTGAGE       Source Verified     321xx    \n",
       "5  MORTGAGE       Not Verified        476xx    "
      ]
     },
     "execution_count": 344,
     "metadata": {},
     "output_type": "execute_result"
    }
   ],
   "source": [
    "df_4.filter(b_charct).head(3)"
   ]
  },
  {
   "cell_type": "code",
   "execution_count": 285,
   "metadata": {},
   "outputs": [
    {
     "data": {
      "text/html": [
       "<div>\n",
       "<style scoped>\n",
       "    .dataframe tbody tr th:only-of-type {\n",
       "        vertical-align: middle;\n",
       "    }\n",
       "\n",
       "    .dataframe tbody tr th {\n",
       "        vertical-align: top;\n",
       "    }\n",
       "\n",
       "    .dataframe thead th {\n",
       "        text-align: right;\n",
       "    }\n",
       "</style>\n",
       "<table border=\"1\" class=\"dataframe\">\n",
       "  <thead>\n",
       "    <tr style=\"text-align: right;\">\n",
       "      <th></th>\n",
       "      <th>Num_of_missing</th>\n",
       "      <th>Pect_of_missing</th>\n",
       "    </tr>\n",
       "  </thead>\n",
       "  <tbody>\n",
       "    <tr>\n",
       "      <td>emp_title</td>\n",
       "      <td>21201</td>\n",
       "      <td>6.360039</td>\n",
       "    </tr>\n",
       "    <tr>\n",
       "      <td>emp_length</td>\n",
       "      <td>20969</td>\n",
       "      <td>6.290442</td>\n",
       "    </tr>\n",
       "  </tbody>\n",
       "</table>\n",
       "</div>"
      ],
      "text/plain": [
       "            Num_of_missing  Pect_of_missing\n",
       "emp_title   21201           6.360039       \n",
       "emp_length  20969           6.290442       "
      ]
     },
     "execution_count": 285,
     "metadata": {},
     "output_type": "execute_result"
    }
   ],
   "source": [
    "miss_value_table(df_4.filter(b_charct))"
   ]
  },
  {
   "cell_type": "code",
   "execution_count": 286,
   "metadata": {
    "scrolled": true
   },
   "outputs": [
    {
     "name": "stdout",
     "output_type": "stream",
     "text": [
      "Num of unique employment title: 96649\n"
     ]
    }
   ],
   "source": [
    "print(\"Num of unique employment title: {}\".format(len(df_4.emp_title.unique())))"
   ]
  },
  {
   "cell_type": "code",
   "execution_count": 370,
   "metadata": {},
   "outputs": [
    {
     "name": "stdout",
     "output_type": "stream",
     "text": [
      "Num of unique home_ownership title: 4\n"
     ]
    }
   ],
   "source": [
    "print(\"Num of unique home_ownership title: {}\".format(len(df_4.home_ownership.unique())))"
   ]
  },
  {
   "cell_type": "code",
   "execution_count": 287,
   "metadata": {
    "scrolled": true
   },
   "outputs": [
    {
     "name": "stdout",
     "output_type": "stream",
     "text": [
      "Missing both no emp length and emp title: 20816 \n",
      "Missing emp length but provid emp title: 153\n"
     ]
    }
   ],
   "source": [
    "print(\"Missing both no emp length and emp title: {a} \\nMissing emp length but provid emp title: {b}\"\n",
    "      .format(a= len(df_4[df_4.emp_length.isnull()&df_4.emp_title.isnull()]),\n",
    "              b= len ( df_4[df_4.emp_length.isnull()&df_4.emp_title.notnull()])))"
   ]
  },
  {
   "cell_type": "code",
   "execution_count": 288,
   "metadata": {},
   "outputs": [
    {
     "data": {
      "text/html": [
       "<div>\n",
       "<style scoped>\n",
       "    .dataframe tbody tr th:only-of-type {\n",
       "        vertical-align: middle;\n",
       "    }\n",
       "\n",
       "    .dataframe tbody tr th {\n",
       "        vertical-align: top;\n",
       "    }\n",
       "\n",
       "    .dataframe thead th {\n",
       "        text-align: right;\n",
       "    }\n",
       "</style>\n",
       "<table border=\"1\" class=\"dataframe\">\n",
       "  <thead>\n",
       "    <tr style=\"text-align: right;\">\n",
       "      <th></th>\n",
       "      <th>Default</th>\n",
       "      <th>Len: No &amp; Title: No</th>\n",
       "      <th>Len: No &amp; Title: Yes</th>\n",
       "      <th>Len: Yes</th>\n",
       "    </tr>\n",
       "  </thead>\n",
       "  <tbody>\n",
       "    <tr>\n",
       "      <td>0</td>\n",
       "      <td>No</td>\n",
       "      <td>0.671118</td>\n",
       "      <td>0.673203</td>\n",
       "      <td>0.770326</td>\n",
       "    </tr>\n",
       "    <tr>\n",
       "      <td>1</td>\n",
       "      <td>Yes</td>\n",
       "      <td>0.328882</td>\n",
       "      <td>0.326797</td>\n",
       "      <td>0.229674</td>\n",
       "    </tr>\n",
       "  </tbody>\n",
       "</table>\n",
       "</div>"
      ],
      "text/plain": [
       "  Default  Len: No & Title: No  Len: No & Title: Yes  Len: Yes\n",
       "0  No      0.671118             0.673203              0.770326\n",
       "1  Yes     0.328882             0.326797              0.229674"
      ]
     },
     "execution_count": 288,
     "metadata": {},
     "output_type": "execute_result"
    }
   ],
   "source": [
    "typy_1 = df_4.default[df_4.emp_length.isnull()&df_4.emp_title.isnull()].value_counts(normalize = True).rename('Len: No & Title: No').reset_index(drop = True)\n",
    "typy_2 = df_4.default[df_4.emp_length.isnull()&df_4.emp_title.notnull()].value_counts(normalize = True).rename('Len: No & Title: Yes').reset_index(drop = True)\n",
    "typy_3 = df_4.default[df_4.emp_length.notnull()].value_counts(normalize = True).rename('Len: Yes').reset_index(drop = True)\n",
    "s = pd.Series(['No','Yes'])\n",
    "pd.concat([s.rename('Default'), typy_1, typy_2,typy_3], axis =1)"
   ]
  },
  {
   "cell_type": "code",
   "execution_count": 345,
   "metadata": {},
   "outputs": [],
   "source": [
    "df_5 = df_4.drop(['zip_code', 'emp_title' ], axis =1).copy()"
   ]
  },
  {
   "cell_type": "code",
   "execution_count": 346,
   "metadata": {},
   "outputs": [],
   "source": [
    "df_5['emp_length'] = df_5['emp_length'].fillna('0 year')"
   ]
  },
  {
   "cell_type": "markdown",
   "metadata": {},
   "source": [
    "default_by_state = df_2.groupby(['addr_state','default'])['default'].count()\n",
    "default_by_state=( default_by_state/default_by_state.groupby(level=0).sum())\\\n",
    ".reset_index(name = 'pct')\\\n",
    ".sort_values(by = 'pct', ascending = False)\n",
    "default_state_rt = default_by_state.loc[default_by_state.default == 1, ['addr_state', 'pct']].reset_index(drop = True)\n",
    "default_state_rt.to_csv('def_by_state.csv')\n",
    "default_by_state[default_by_state.default ==1].filter() .reset_index(drop = True)"
   ]
  },
  {
   "cell_type": "markdown",
   "metadata": {},
   "source": [
    "######  4. borrower indebtness - dti \n",
    "- no missing values"
   ]
  },
  {
   "cell_type": "markdown",
   "metadata": {},
   "source": [
    "#### 5. borrower accessment\n",
    "- these variables do no contain missing values\n",
    "- convert Interest rate to number by strip the '%' sign "
   ]
  },
  {
   "cell_type": "code",
   "execution_count": 314,
   "metadata": {
    "scrolled": true
   },
   "outputs": [
    {
     "data": {
      "text/html": [
       "<div>\n",
       "<style scoped>\n",
       "    .dataframe tbody tr th:only-of-type {\n",
       "        vertical-align: middle;\n",
       "    }\n",
       "\n",
       "    .dataframe tbody tr th {\n",
       "        vertical-align: top;\n",
       "    }\n",
       "\n",
       "    .dataframe thead th {\n",
       "        text-align: right;\n",
       "    }\n",
       "</style>\n",
       "<table border=\"1\" class=\"dataframe\">\n",
       "  <thead>\n",
       "    <tr style=\"text-align: right;\">\n",
       "      <th></th>\n",
       "      <th>fico_range_high</th>\n",
       "      <th>fico_range_low</th>\n",
       "      <th>grade</th>\n",
       "      <th>int_rate</th>\n",
       "      <th>sub_grade</th>\n",
       "    </tr>\n",
       "  </thead>\n",
       "  <tbody>\n",
       "    <tr>\n",
       "      <td>0</td>\n",
       "      <td>674</td>\n",
       "      <td>670</td>\n",
       "      <td>B</td>\n",
       "      <td>9.75%</td>\n",
       "      <td>B3</td>\n",
       "    </tr>\n",
       "    <tr>\n",
       "      <td>4</td>\n",
       "      <td>679</td>\n",
       "      <td>675</td>\n",
       "      <td>C</td>\n",
       "      <td>11.99%</td>\n",
       "      <td>C1</td>\n",
       "    </tr>\n",
       "    <tr>\n",
       "      <td>5</td>\n",
       "      <td>749</td>\n",
       "      <td>745</td>\n",
       "      <td>C</td>\n",
       "      <td>15.31%</td>\n",
       "      <td>C5</td>\n",
       "    </tr>\n",
       "  </tbody>\n",
       "</table>\n",
       "</div>"
      ],
      "text/plain": [
       "   fico_range_high  fico_range_low grade int_rate sub_grade\n",
       "0  674              670             B     9.75%    B3      \n",
       "4  679              675             C     11.99%   C1      \n",
       "5  749              745             C     15.31%   C5      "
      ]
     },
     "execution_count": 314,
     "metadata": {},
     "output_type": "execute_result"
    }
   ],
   "source": [
    "df_5.filter(b_asses).head(3)"
   ]
  },
  {
   "cell_type": "code",
   "execution_count": 347,
   "metadata": {},
   "outputs": [],
   "source": [
    "df_5.int_rate = df_5.int_rate.apply(lambda x: float(x.rstrip('%')))"
   ]
  },
  {
   "cell_type": "markdown",
   "metadata": {},
   "source": [
    "#### 6. borrower financial situation\n",
    "*il:installment accounts; rev/rv: revolving credit; bc: bankcard accounts;util: ratio of balance to credit limit*\n",
    "- only 3 cases have missing fields 'inq_last_6mths' or 'avg_cur_bal'=> remove these 3 cases\n",
    "- Variables with similar number of missings \n",
    "- Months since event variables\n",
    "- 'revol_util' should be convert to float type"
   ]
  },
  {
   "cell_type": "code",
   "execution_count": 135,
   "metadata": {},
   "outputs": [
    {
     "data": {
      "text/html": [
       "<div>\n",
       "<style scoped>\n",
       "    .dataframe tbody tr th:only-of-type {\n",
       "        vertical-align: middle;\n",
       "    }\n",
       "\n",
       "    .dataframe tbody tr th {\n",
       "        vertical-align: top;\n",
       "    }\n",
       "\n",
       "    .dataframe thead th {\n",
       "        text-align: right;\n",
       "    }\n",
       "</style>\n",
       "<table border=\"1\" class=\"dataframe\">\n",
       "  <thead>\n",
       "    <tr style=\"text-align: right;\">\n",
       "      <th></th>\n",
       "      <th>mths_since_recent_inq</th>\n",
       "      <th>open_act_il</th>\n",
       "      <th>total_bal_il</th>\n",
       "      <th>disbursement_method</th>\n",
       "      <th>num_tl_30dpd</th>\n",
       "      <th>acc_open_past_24mths</th>\n",
       "      <th>mths_since_rcnt_il</th>\n",
       "      <th>num_bc_tl</th>\n",
       "      <th>tot_cur_bal</th>\n",
       "      <th>delinq_2yrs</th>\n",
       "      <th>...</th>\n",
       "      <th>open_rv_24m</th>\n",
       "      <th>revol_bal</th>\n",
       "      <th>open_rv_12m</th>\n",
       "      <th>num_bc_sats</th>\n",
       "      <th>num_tl_op_past_12m</th>\n",
       "      <th>open_acc</th>\n",
       "      <th>num_rev_tl_bal_gt_0</th>\n",
       "      <th>num_accts_ever_120_pd</th>\n",
       "      <th>mths_since_recent_bc</th>\n",
       "      <th>revol_util</th>\n",
       "    </tr>\n",
       "  </thead>\n",
       "  <tbody>\n",
       "    <tr>\n",
       "      <td>0</td>\n",
       "      <td>2.0</td>\n",
       "      <td>1.0</td>\n",
       "      <td>19231.0</td>\n",
       "      <td>Cash</td>\n",
       "      <td>0</td>\n",
       "      <td>4</td>\n",
       "      <td>10.0</td>\n",
       "      <td>7</td>\n",
       "      <td>157051</td>\n",
       "      <td>0</td>\n",
       "      <td>...</td>\n",
       "      <td>2.0</td>\n",
       "      <td>11059</td>\n",
       "      <td>2.0</td>\n",
       "      <td>2</td>\n",
       "      <td>3</td>\n",
       "      <td>7</td>\n",
       "      <td>4</td>\n",
       "      <td>2</td>\n",
       "      <td>89.0</td>\n",
       "      <td>78.40%</td>\n",
       "    </tr>\n",
       "    <tr>\n",
       "      <td>4</td>\n",
       "      <td>NaN</td>\n",
       "      <td>1.0</td>\n",
       "      <td>10623.0</td>\n",
       "      <td>Cash</td>\n",
       "      <td>0</td>\n",
       "      <td>0</td>\n",
       "      <td>34.0</td>\n",
       "      <td>4</td>\n",
       "      <td>125922</td>\n",
       "      <td>1</td>\n",
       "      <td>...</td>\n",
       "      <td>0.0</td>\n",
       "      <td>19014</td>\n",
       "      <td>0.0</td>\n",
       "      <td>2</td>\n",
       "      <td>0</td>\n",
       "      <td>8</td>\n",
       "      <td>6</td>\n",
       "      <td>4</td>\n",
       "      <td>111.0</td>\n",
       "      <td>89.70%</td>\n",
       "    </tr>\n",
       "    <tr>\n",
       "      <td>5</td>\n",
       "      <td>8.0</td>\n",
       "      <td>4.0</td>\n",
       "      <td>137787.0</td>\n",
       "      <td>Cash</td>\n",
       "      <td>0</td>\n",
       "      <td>10</td>\n",
       "      <td>8.0</td>\n",
       "      <td>21</td>\n",
       "      <td>204560</td>\n",
       "      <td>0</td>\n",
       "      <td>...</td>\n",
       "      <td>5.0</td>\n",
       "      <td>9650</td>\n",
       "      <td>2.0</td>\n",
       "      <td>9</td>\n",
       "      <td>3</td>\n",
       "      <td>21</td>\n",
       "      <td>4</td>\n",
       "      <td>0</td>\n",
       "      <td>7.0</td>\n",
       "      <td>12.40%</td>\n",
       "    </tr>\n",
       "  </tbody>\n",
       "</table>\n",
       "<p>3 rows × 67 columns</p>\n",
       "</div>"
      ],
      "text/plain": [
       "   mths_since_recent_inq  open_act_il  total_bal_il disbursement_method  \\\n",
       "0  2.0                    1.0          19231.0       Cash                 \n",
       "4 NaN                     1.0          10623.0       Cash                 \n",
       "5  8.0                    4.0          137787.0      Cash                 \n",
       "\n",
       "   num_tl_30dpd  acc_open_past_24mths  mths_since_rcnt_il  num_bc_tl  \\\n",
       "0  0             4                     10.0                7           \n",
       "4  0             0                     34.0                4           \n",
       "5  0             10                    8.0                 21          \n",
       "\n",
       "   tot_cur_bal  delinq_2yrs  ...  open_rv_24m  revol_bal  open_rv_12m  \\\n",
       "0  157051       0            ...  2.0          11059      2.0           \n",
       "4  125922       1            ...  0.0          19014      0.0           \n",
       "5  204560       0            ...  5.0          9650       2.0           \n",
       "\n",
       "   num_bc_sats  num_tl_op_past_12m  open_acc  num_rev_tl_bal_gt_0  \\\n",
       "0  2            3                   7         4                     \n",
       "4  2            0                   8         6                     \n",
       "5  9            3                   21        4                     \n",
       "\n",
       "   num_accts_ever_120_pd  mths_since_recent_bc  revol_util  \n",
       "0  2                      89.0                  78.40%      \n",
       "4  4                      111.0                 89.70%      \n",
       "5  0                      7.0                   12.40%      \n",
       "\n",
       "[3 rows x 67 columns]"
      ]
     },
     "execution_count": 135,
     "metadata": {},
     "output_type": "execute_result"
    }
   ],
   "source": [
    "df_5.filter(b_fin).head(3)"
   ]
  },
  {
   "cell_type": "code",
   "execution_count": 348,
   "metadata": {},
   "outputs": [],
   "source": [
    "# convert revol_util to float if not null  \n",
    "df_5.revol_util = [float( x.rstrip('%')) if isinstance(x, str) == True else np.nan for x in df_5.revol_util] "
   ]
  },
  {
   "cell_type": "code",
   "execution_count": 349,
   "metadata": {
    "scrolled": true
   },
   "outputs": [
    {
     "data": {
      "text/html": [
       "<div>\n",
       "<style scoped>\n",
       "    .dataframe tbody tr th:only-of-type {\n",
       "        vertical-align: middle;\n",
       "    }\n",
       "\n",
       "    .dataframe tbody tr th {\n",
       "        vertical-align: top;\n",
       "    }\n",
       "\n",
       "    .dataframe thead th {\n",
       "        text-align: right;\n",
       "    }\n",
       "</style>\n",
       "<table border=\"1\" class=\"dataframe\">\n",
       "  <thead>\n",
       "    <tr style=\"text-align: right;\">\n",
       "      <th></th>\n",
       "      <th>Num_of_missing</th>\n",
       "      <th>Pect_of_missing</th>\n",
       "    </tr>\n",
       "  </thead>\n",
       "  <tbody>\n",
       "    <tr>\n",
       "      <td>mths_since_last_record</td>\n",
       "      <td>265642</td>\n",
       "      <td>79.689333</td>\n",
       "    </tr>\n",
       "    <tr>\n",
       "      <td>mths_since_recent_bc_dlq</td>\n",
       "      <td>250590</td>\n",
       "      <td>75.173918</td>\n",
       "    </tr>\n",
       "    <tr>\n",
       "      <td>mths_since_last_major_derog</td>\n",
       "      <td>236481</td>\n",
       "      <td>70.941391</td>\n",
       "    </tr>\n",
       "    <tr>\n",
       "      <td>mths_since_recent_revol_delinq</td>\n",
       "      <td>215701</td>\n",
       "      <td>64.707647</td>\n",
       "    </tr>\n",
       "    <tr>\n",
       "      <td>mths_since_last_delinq</td>\n",
       "      <td>160263</td>\n",
       "      <td>48.076929</td>\n",
       "    </tr>\n",
       "    <tr>\n",
       "      <td>il_util</td>\n",
       "      <td>42605</td>\n",
       "      <td>12.780976</td>\n",
       "    </tr>\n",
       "    <tr>\n",
       "      <td>mths_since_recent_inq</td>\n",
       "      <td>28745</td>\n",
       "      <td>8.623146</td>\n",
       "    </tr>\n",
       "    <tr>\n",
       "      <td>num_tl_120dpd_2m</td>\n",
       "      <td>16689</td>\n",
       "      <td>5.006495</td>\n",
       "    </tr>\n",
       "    <tr>\n",
       "      <td>mths_since_rcnt_il</td>\n",
       "      <td>8054</td>\n",
       "      <td>2.416101</td>\n",
       "    </tr>\n",
       "    <tr>\n",
       "      <td>mo_sin_old_il_acct</td>\n",
       "      <td>8026</td>\n",
       "      <td>2.407701</td>\n",
       "    </tr>\n",
       "    <tr>\n",
       "      <td>bc_util</td>\n",
       "      <td>4057</td>\n",
       "      <td>1.217050</td>\n",
       "    </tr>\n",
       "    <tr>\n",
       "      <td>percent_bc_gt_75</td>\n",
       "      <td>3887</td>\n",
       "      <td>1.166052</td>\n",
       "    </tr>\n",
       "    <tr>\n",
       "      <td>bc_open_to_buy</td>\n",
       "      <td>3868</td>\n",
       "      <td>1.160352</td>\n",
       "    </tr>\n",
       "    <tr>\n",
       "      <td>mths_since_recent_bc</td>\n",
       "      <td>3633</td>\n",
       "      <td>1.089855</td>\n",
       "    </tr>\n",
       "    <tr>\n",
       "      <td>revol_util</td>\n",
       "      <td>227</td>\n",
       "      <td>0.068097</td>\n",
       "    </tr>\n",
       "    <tr>\n",
       "      <td>all_util</td>\n",
       "      <td>55</td>\n",
       "      <td>0.016499</td>\n",
       "    </tr>\n",
       "    <tr>\n",
       "      <td>open_acc_6m</td>\n",
       "      <td>32</td>\n",
       "      <td>0.009600</td>\n",
       "    </tr>\n",
       "    <tr>\n",
       "      <td>total_cu_tl</td>\n",
       "      <td>32</td>\n",
       "      <td>0.009600</td>\n",
       "    </tr>\n",
       "    <tr>\n",
       "      <td>inq_last_12m</td>\n",
       "      <td>32</td>\n",
       "      <td>0.009600</td>\n",
       "    </tr>\n",
       "    <tr>\n",
       "      <td>open_act_il</td>\n",
       "      <td>31</td>\n",
       "      <td>0.009300</td>\n",
       "    </tr>\n",
       "    <tr>\n",
       "      <td>open_il_24m</td>\n",
       "      <td>31</td>\n",
       "      <td>0.009300</td>\n",
       "    </tr>\n",
       "    <tr>\n",
       "      <td>max_bal_bc</td>\n",
       "      <td>31</td>\n",
       "      <td>0.009300</td>\n",
       "    </tr>\n",
       "    <tr>\n",
       "      <td>open_il_12m</td>\n",
       "      <td>31</td>\n",
       "      <td>0.009300</td>\n",
       "    </tr>\n",
       "    <tr>\n",
       "      <td>inq_fi</td>\n",
       "      <td>31</td>\n",
       "      <td>0.009300</td>\n",
       "    </tr>\n",
       "    <tr>\n",
       "      <td>open_rv_24m</td>\n",
       "      <td>31</td>\n",
       "      <td>0.009300</td>\n",
       "    </tr>\n",
       "    <tr>\n",
       "      <td>open_rv_12m</td>\n",
       "      <td>31</td>\n",
       "      <td>0.009300</td>\n",
       "    </tr>\n",
       "    <tr>\n",
       "      <td>total_bal_il</td>\n",
       "      <td>31</td>\n",
       "      <td>0.009300</td>\n",
       "    </tr>\n",
       "    <tr>\n",
       "      <td>avg_cur_bal</td>\n",
       "      <td>2</td>\n",
       "      <td>0.000600</td>\n",
       "    </tr>\n",
       "    <tr>\n",
       "      <td>inq_last_6mths</td>\n",
       "      <td>1</td>\n",
       "      <td>0.000300</td>\n",
       "    </tr>\n",
       "  </tbody>\n",
       "</table>\n",
       "</div>"
      ],
      "text/plain": [
       "                                Num_of_missing  Pect_of_missing\n",
       "mths_since_last_record          265642          79.689333      \n",
       "mths_since_recent_bc_dlq        250590          75.173918      \n",
       "mths_since_last_major_derog     236481          70.941391      \n",
       "mths_since_recent_revol_delinq  215701          64.707647      \n",
       "mths_since_last_delinq          160263          48.076929      \n",
       "il_util                         42605           12.780976      \n",
       "mths_since_recent_inq           28745           8.623146       \n",
       "num_tl_120dpd_2m                16689           5.006495       \n",
       "mths_since_rcnt_il              8054            2.416101       \n",
       "mo_sin_old_il_acct              8026            2.407701       \n",
       "bc_util                         4057            1.217050       \n",
       "percent_bc_gt_75                3887            1.166052       \n",
       "bc_open_to_buy                  3868            1.160352       \n",
       "mths_since_recent_bc            3633            1.089855       \n",
       "revol_util                      227             0.068097       \n",
       "all_util                        55              0.016499       \n",
       "open_acc_6m                     32              0.009600       \n",
       "total_cu_tl                     32              0.009600       \n",
       "inq_last_12m                    32              0.009600       \n",
       "open_act_il                     31              0.009300       \n",
       "open_il_24m                     31              0.009300       \n",
       "max_bal_bc                      31              0.009300       \n",
       "open_il_12m                     31              0.009300       \n",
       "inq_fi                          31              0.009300       \n",
       "open_rv_24m                     31              0.009300       \n",
       "open_rv_12m                     31              0.009300       \n",
       "total_bal_il                    31              0.009300       \n",
       "avg_cur_bal                     2               0.000600       \n",
       "inq_last_6mths                  1               0.000300       "
      ]
     },
     "execution_count": 349,
     "metadata": {},
     "output_type": "execute_result"
    }
   ],
   "source": [
    "miss_value_table(df_5.filter(b_fin))"
   ]
  },
  {
   "cell_type": "code",
   "execution_count": 362,
   "metadata": {},
   "outputs": [],
   "source": [
    "# drop observations with missing 'inq_last_6mths','avg_cur_bal' \n",
    "df_6 = df_5.dropna(how='any', subset=['inq_last_6mths','avg_cur_bal']).copy()"
   ]
  },
  {
   "cell_type": "markdown",
   "metadata": {},
   "source": [
    "**6.1 Variables with similar number of missings**\n",
    "- These missing observations are all loans issued prior to January 2016, which is missing randomly, plus  due to broken data collection process \n",
    "- Plus, due to the small amount of missing, I decided to **remove these observations from dataset** "
   ]
  },
  {
   "cell_type": "code",
   "execution_count": 363,
   "metadata": {},
   "outputs": [],
   "source": [
    "mt = miss_value_table(df_5.filter(b_fin))\n",
    "to_drop_row = mt[mt.Num_of_missing <= 32 ].index.tolist()\n",
    "df_6= df_6.dropna(how='any', subset= to_drop_row,axis = 0)"
   ]
  },
  {
   "cell_type": "markdown",
   "metadata": {},
   "source": [
    "**6.2 Months since event variables**\n",
    "- These variables represent stating how many months ago an event occurred. \n",
    "- For instance, months since last delinquency, last record or most recent bank card account was opened. \n",
    "- They contain a lot of NA entries, which mean that the event has not occurred previously in the loan applicants record. This feature is considered as systematic missing, i.e. it's missing for a reason\n",
    "- Since these are numerical, contains values >=0, so **encode missing value with a negative value** will make them into seperate category"
   ]
  },
  {
   "cell_type": "markdown",
   "metadata": {},
   "source": [
    "**Take the variable'mths_since_last_record' as an example,  which measures how long it has been since last derogatory public record**"
   ]
  },
  {
   "cell_type": "code",
   "execution_count": 352,
   "metadata": {
    "scrolled": true
   },
   "outputs": [
    {
     "name": "stdout",
     "output_type": "stream",
     "text": [
      "   pub_rec  countna\n",
      "0  0        265613 \n"
     ]
    }
   ],
   "source": [
    "# if public record = 0, then 'mths_since_last_record' has missing value \n",
    "g = df_6.mths_since_last_record.isnull().groupby([df_6['pub_rec']]).sum().astype(int).reset_index(name = 'countna')\n",
    "print( g.loc[g['countna'] != 0,:] ) "
   ]
  },
  {
   "cell_type": "code",
   "execution_count": 353,
   "metadata": {},
   "outputs": [
    {
     "name": "stdout",
     "output_type": "stream",
     "text": [
      "default\n",
      "0    0.769763\n",
      "1    0.230237\n",
      "Name: default, dtype: float64\n"
     ]
    }
   ],
   "source": [
    "# If one has no public record, then the default rate is around 23%, \n",
    "# With low values, say less than a year, the default rate is around 30%, \n",
    "# as the number of months inceases, the default rate decreases \n",
    "# So there is definitely some predict power in it \n",
    "c = df_6[df_6.pub_rec == 0].groupby(['default'])['default'].count()\n",
    "print(c/sum(c))"
   ]
  },
  {
   "cell_type": "code",
   "execution_count": 354,
   "metadata": {},
   "outputs": [
    {
     "data": {
      "text/html": [
       "<div>\n",
       "<style scoped>\n",
       "    .dataframe tbody tr th:only-of-type {\n",
       "        vertical-align: middle;\n",
       "    }\n",
       "\n",
       "    .dataframe tbody tr th {\n",
       "        vertical-align: top;\n",
       "    }\n",
       "\n",
       "    .dataframe thead th {\n",
       "        text-align: right;\n",
       "    }\n",
       "</style>\n",
       "<table border=\"1\" class=\"dataframe\">\n",
       "  <thead>\n",
       "    <tr style=\"text-align: right;\">\n",
       "      <th></th>\n",
       "      <th>mths_since_last_record</th>\n",
       "      <th>default</th>\n",
       "      <th>prop</th>\n",
       "    </tr>\n",
       "  </thead>\n",
       "  <tbody>\n",
       "    <tr>\n",
       "      <td>0</td>\n",
       "      <td>(0, 12]</td>\n",
       "      <td>0</td>\n",
       "      <td>0.697531</td>\n",
       "    </tr>\n",
       "    <tr>\n",
       "      <td>1</td>\n",
       "      <td>(0, 12]</td>\n",
       "      <td>1</td>\n",
       "      <td>0.302469</td>\n",
       "    </tr>\n",
       "    <tr>\n",
       "      <td>2</td>\n",
       "      <td>(12, 36]</td>\n",
       "      <td>0</td>\n",
       "      <td>0.734460</td>\n",
       "    </tr>\n",
       "    <tr>\n",
       "      <td>3</td>\n",
       "      <td>(12, 36]</td>\n",
       "      <td>1</td>\n",
       "      <td>0.265540</td>\n",
       "    </tr>\n",
       "    <tr>\n",
       "      <td>4</td>\n",
       "      <td>(36, 60]</td>\n",
       "      <td>0</td>\n",
       "      <td>0.747059</td>\n",
       "    </tr>\n",
       "    <tr>\n",
       "      <td>5</td>\n",
       "      <td>(36, 60]</td>\n",
       "      <td>1</td>\n",
       "      <td>0.252941</td>\n",
       "    </tr>\n",
       "    <tr>\n",
       "      <td>6</td>\n",
       "      <td>(60, 96]</td>\n",
       "      <td>0</td>\n",
       "      <td>0.744671</td>\n",
       "    </tr>\n",
       "    <tr>\n",
       "      <td>7</td>\n",
       "      <td>(60, 96]</td>\n",
       "      <td>1</td>\n",
       "      <td>0.255329</td>\n",
       "    </tr>\n",
       "    <tr>\n",
       "      <td>8</td>\n",
       "      <td>(96, 130]</td>\n",
       "      <td>0</td>\n",
       "      <td>0.733654</td>\n",
       "    </tr>\n",
       "    <tr>\n",
       "      <td>9</td>\n",
       "      <td>(96, 130]</td>\n",
       "      <td>1</td>\n",
       "      <td>0.266346</td>\n",
       "    </tr>\n",
       "  </tbody>\n",
       "</table>\n",
       "</div>"
      ],
      "text/plain": [
       "  mths_since_last_record  default      prop\n",
       "0  (0, 12]                0        0.697531\n",
       "1  (0, 12]                1        0.302469\n",
       "2  (12, 36]               0        0.734460\n",
       "3  (12, 36]               1        0.265540\n",
       "4  (36, 60]               0        0.747059\n",
       "5  (36, 60]               1        0.252941\n",
       "6  (60, 96]               0        0.744671\n",
       "7  (60, 96]               1        0.255329\n",
       "8  (96, 130]              0        0.733654\n",
       "9  (96, 130]              1        0.266346"
      ]
     },
     "execution_count": 354,
     "metadata": {},
     "output_type": "execute_result"
    }
   ],
   "source": [
    "df_6.groupby(pd.cut(df_6[\"mths_since_last_record\"], [0, 12, 36, 60, 96, 130] ))['default']\\\n",
    ".value_counts(normalize=True)\\\n",
    ".rename('prop')\\\n",
    ".reset_index()"
   ]
  },
  {
   "cell_type": "code",
   "execution_count": 355,
   "metadata": {},
   "outputs": [],
   "source": [
    "# combine all these months variables for later encoding\n",
    "r = re.compile(\"^mths_since.*|^mo_sin.*\")\n",
    "fill_negative = list(filter(r.match, b_fin))"
   ]
  },
  {
   "cell_type": "code",
   "execution_count": 364,
   "metadata": {},
   "outputs": [],
   "source": [
    "df_6[fill_negative] = df_6[fill_negative].fillna(-999)"
   ]
  },
  {
   "cell_type": "code",
   "execution_count": 365,
   "metadata": {},
   "outputs": [
    {
     "data": {
      "text/html": [
       "<div>\n",
       "<style scoped>\n",
       "    .dataframe tbody tr th:only-of-type {\n",
       "        vertical-align: middle;\n",
       "    }\n",
       "\n",
       "    .dataframe tbody tr th {\n",
       "        vertical-align: top;\n",
       "    }\n",
       "\n",
       "    .dataframe thead th {\n",
       "        text-align: right;\n",
       "    }\n",
       "</style>\n",
       "<table border=\"1\" class=\"dataframe\">\n",
       "  <thead>\n",
       "    <tr style=\"text-align: right;\">\n",
       "      <th></th>\n",
       "      <th>Num_of_missing</th>\n",
       "      <th>Pect_of_missing</th>\n",
       "    </tr>\n",
       "  </thead>\n",
       "  <tbody>\n",
       "    <tr>\n",
       "      <td>il_util</td>\n",
       "      <td>42572</td>\n",
       "      <td>12.772379</td>\n",
       "    </tr>\n",
       "    <tr>\n",
       "      <td>num_tl_120dpd_2m</td>\n",
       "      <td>16687</td>\n",
       "      <td>5.006405</td>\n",
       "    </tr>\n",
       "    <tr>\n",
       "      <td>bc_util</td>\n",
       "      <td>4054</td>\n",
       "      <td>1.216274</td>\n",
       "    </tr>\n",
       "    <tr>\n",
       "      <td>percent_bc_gt_75</td>\n",
       "      <td>3884</td>\n",
       "      <td>1.165271</td>\n",
       "    </tr>\n",
       "    <tr>\n",
       "      <td>bc_open_to_buy</td>\n",
       "      <td>3865</td>\n",
       "      <td>1.159571</td>\n",
       "    </tr>\n",
       "    <tr>\n",
       "      <td>revol_util</td>\n",
       "      <td>225</td>\n",
       "      <td>0.067504</td>\n",
       "    </tr>\n",
       "    <tr>\n",
       "      <td>all_util</td>\n",
       "      <td>22</td>\n",
       "      <td>0.006600</td>\n",
       "    </tr>\n",
       "  </tbody>\n",
       "</table>\n",
       "</div>"
      ],
      "text/plain": [
       "                  Num_of_missing  Pect_of_missing\n",
       "il_util           42572           12.772379      \n",
       "num_tl_120dpd_2m  16687           5.006405       \n",
       "bc_util           4054            1.216274       \n",
       "percent_bc_gt_75  3884            1.165271       \n",
       "bc_open_to_buy    3865            1.159571       \n",
       "revol_util        225             0.067504       \n",
       "all_util          22              0.006600       "
      ]
     },
     "execution_count": 365,
     "metadata": {},
     "output_type": "execute_result"
    }
   ],
   "source": [
    "miss_value_table(df_6.filter(list( set(b_fin) - set( fill_negative))))"
   ]
  },
  {
   "cell_type": "markdown",
   "metadata": {},
   "source": [
    "The rest of variables with missings  are either realted with ratio of balance to limit, or number of accounts, which contain  overlapped information with other fields in borrowers financial situations ; I decided to encode them with 0 first and check their correlation later "
   ]
  },
  {
   "cell_type": "code",
   "execution_count": 366,
   "metadata": {},
   "outputs": [],
   "source": [
    "# fill the rest variables' missing value to 0 \n",
    "fill_zero = miss_value_table(df_6.filter(list( set(b_fin) - set(fill_negative)))).index.tolist()\n",
    "df_6[fill_zero] = df_6[fill_zero].fillna(0)"
   ]
  },
  {
   "cell_type": "code",
   "execution_count": 369,
   "metadata": {
    "scrolled": true
   },
   "outputs": [
    {
     "data": {
      "text/html": [
       "<div>\n",
       "<style scoped>\n",
       "    .dataframe tbody tr th:only-of-type {\n",
       "        vertical-align: middle;\n",
       "    }\n",
       "\n",
       "    .dataframe tbody tr th {\n",
       "        vertical-align: top;\n",
       "    }\n",
       "\n",
       "    .dataframe thead th {\n",
       "        text-align: right;\n",
       "    }\n",
       "</style>\n",
       "<table border=\"1\" class=\"dataframe\">\n",
       "  <thead>\n",
       "    <tr style=\"text-align: right;\">\n",
       "      <th></th>\n",
       "      <th>loan_amnt</th>\n",
       "      <th>term</th>\n",
       "      <th>int_rate</th>\n",
       "      <th>installment</th>\n",
       "      <th>grade</th>\n",
       "      <th>sub_grade</th>\n",
       "      <th>emp_length</th>\n",
       "      <th>home_ownership</th>\n",
       "      <th>annual_inc</th>\n",
       "      <th>purpose</th>\n",
       "      <th>...</th>\n",
       "      <th>tot_hi_cred_lim</th>\n",
       "      <th>total_bal_ex_mort</th>\n",
       "      <th>total_bc_limit</th>\n",
       "      <th>total_il_high_credit_limit</th>\n",
       "      <th>disbursement_method</th>\n",
       "      <th>verification_status</th>\n",
       "      <th>mths_since_recent_inq</th>\n",
       "      <th>mo_sin_old_il_acct</th>\n",
       "      <th>mths_since_recent_bc_dlq</th>\n",
       "      <th>default</th>\n",
       "    </tr>\n",
       "  </thead>\n",
       "  <tbody>\n",
       "    <tr>\n",
       "      <td>0</td>\n",
       "      <td>8400</td>\n",
       "      <td>36 months</td>\n",
       "      <td>9.75</td>\n",
       "      <td>270.06</td>\n",
       "      <td>B</td>\n",
       "      <td>B3</td>\n",
       "      <td>2 years</td>\n",
       "      <td>MORTGAGE</td>\n",
       "      <td>66000.0</td>\n",
       "      <td>debt_consolidation</td>\n",
       "      <td>...</td>\n",
       "      <td>166260</td>\n",
       "      <td>30290</td>\n",
       "      <td>6200</td>\n",
       "      <td>21079</td>\n",
       "      <td>Cash</td>\n",
       "      <td>Not Verified</td>\n",
       "      <td>2.0</td>\n",
       "      <td>129.0</td>\n",
       "      <td>-999.0</td>\n",
       "      <td>0</td>\n",
       "    </tr>\n",
       "    <tr>\n",
       "      <td>4</td>\n",
       "      <td>20000</td>\n",
       "      <td>36 months</td>\n",
       "      <td>11.99</td>\n",
       "      <td>664.20</td>\n",
       "      <td>C</td>\n",
       "      <td>C1</td>\n",
       "      <td>10+ years</td>\n",
       "      <td>MORTGAGE</td>\n",
       "      <td>49000.0</td>\n",
       "      <td>debt_consolidation</td>\n",
       "      <td>...</td>\n",
       "      <td>140308</td>\n",
       "      <td>29637</td>\n",
       "      <td>13100</td>\n",
       "      <td>12193</td>\n",
       "      <td>Cash</td>\n",
       "      <td>Source Verified</td>\n",
       "      <td>-999.0</td>\n",
       "      <td>122.0</td>\n",
       "      <td>-999.0</td>\n",
       "      <td>0</td>\n",
       "    </tr>\n",
       "    <tr>\n",
       "      <td>5</td>\n",
       "      <td>13625</td>\n",
       "      <td>60 months</td>\n",
       "      <td>15.31</td>\n",
       "      <td>326.36</td>\n",
       "      <td>C</td>\n",
       "      <td>C5</td>\n",
       "      <td>1 year</td>\n",
       "      <td>MORTGAGE</td>\n",
       "      <td>50000.0</td>\n",
       "      <td>credit_card</td>\n",
       "      <td>...</td>\n",
       "      <td>275130</td>\n",
       "      <td>147437</td>\n",
       "      <td>66900</td>\n",
       "      <td>138047</td>\n",
       "      <td>Cash</td>\n",
       "      <td>Not Verified</td>\n",
       "      <td>8.0</td>\n",
       "      <td>120.0</td>\n",
       "      <td>-999.0</td>\n",
       "      <td>0</td>\n",
       "    </tr>\n",
       "  </tbody>\n",
       "</table>\n",
       "<p>3 rows × 85 columns</p>\n",
       "</div>"
      ],
      "text/plain": [
       "   loan_amnt        term  int_rate  installment grade sub_grade emp_length  \\\n",
       "0  8400        36 months  9.75      270.06       B     B3        2 years     \n",
       "4  20000       36 months  11.99     664.20       C     C1        10+ years   \n",
       "5  13625       60 months  15.31     326.36       C     C5        1 year      \n",
       "\n",
       "  home_ownership  annual_inc             purpose  ... tot_hi_cred_lim  \\\n",
       "0  MORTGAGE       66000.0     debt_consolidation  ...  166260           \n",
       "4  MORTGAGE       49000.0     debt_consolidation  ...  140308           \n",
       "5  MORTGAGE       50000.0     credit_card         ...  275130           \n",
       "\n",
       "   total_bal_ex_mort  total_bc_limit total_il_high_credit_limit  \\\n",
       "0  30290              6200            21079                       \n",
       "4  29637              13100           12193                       \n",
       "5  147437             66900           138047                      \n",
       "\n",
       "   disbursement_method  verification_status  mths_since_recent_inq  \\\n",
       "0  Cash                 Not Verified         2.0                     \n",
       "4  Cash                 Source Verified     -999.0                   \n",
       "5  Cash                 Not Verified         8.0                     \n",
       "\n",
       "   mo_sin_old_il_acct  mths_since_recent_bc_dlq  default  \n",
       "0  129.0              -999.0                     0        \n",
       "4  122.0              -999.0                     0        \n",
       "5  120.0              -999.0                     0        \n",
       "\n",
       "[3 rows x 85 columns]"
      ]
     },
     "execution_count": 369,
     "metadata": {},
     "output_type": "execute_result"
    }
   ],
   "source": [
    "df_6.head(3)"
   ]
  },
  {
   "cell_type": "code",
   "execution_count": null,
   "metadata": {},
   "outputs": [],
   "source": []
  },
  {
   "cell_type": "markdown",
   "metadata": {},
   "source": [
    "#### Create Variables \n",
    "# replace the upper and lower bound of FICO rating WITH Average FICO range \n"
   ]
  },
  {
   "cell_type": "code",
   "execution_count": null,
   "metadata": {},
   "outputs": [],
   "source": []
  },
  {
   "cell_type": "markdown",
   "metadata": {},
   "source": [
    "### EDA  \n",
    "    - univara"
   ]
  },
  {
   "cell_type": "code",
   "execution_count": null,
   "metadata": {},
   "outputs": [],
   "source": [
    "#  univariate_plot(df_5,'dti','cont' )"
   ]
  },
  {
   "cell_type": "code",
   "execution_count": 510,
   "metadata": {},
   "outputs": [
    {
     "data": {
      "image/png": "[encoded data removed]",
      "text/plain": [
       "<Figure size 432x288 with 1 Axes>"
      ]
     },
     "metadata": {
      "needs_background": "light"
     },
     "output_type": "display_data"
    }
   ],
   "source": [
    "default_by_pred = (df_4.groupby(['emp_length'])['default']\n",
    "                     .value_counts(normalize=True)\n",
    "                     .rename('percentage')\n",
    "                     .mul(100)\n",
    "                     .reset_index()     \n",
    "                     .sort_values('percentage'))\n",
    "p = sns.barplot(x=\"emp_length\", y=\"percentage\", hue=\"default\", data=default_by_pred)\n",
    "_ = plt.setp(p.get_xticklabels(), rotation=90)  # Rotate labels"
   ]
  },
  {
   "cell_type": "code",
   "execution_count": 499,
   "metadata": {},
   "outputs": [
    {
     "data": {
      "text/plain": [
       "0    0.671134\n",
       "1    0.328866\n",
       "Name: default, dtype: float64"
      ]
     },
     "execution_count": 499,
     "metadata": {},
     "output_type": "execute_result"
    }
   ],
   "source": [
    "df_4[df_4.emp_length.isnull()].default.value_counts(normalize = True)"
   ]
  },
  {
   "cell_type": "code",
   "execution_count": 534,
   "metadata": {
    "scrolled": true
   },
   "outputs": [
    {
     "data": {
      "image/png": "[encoded data removed]",
      "text/plain": [
       "<Figure size 1080x432 with 2 Axes>"
      ]
     },
     "metadata": {
      "needs_background": "light"
     },
     "output_type": "display_data"
    }
   ],
   "source": [
    "univariate_plot(df_2, 'loan_amnt', 'cont')"
   ]
  },
  {
   "cell_type": "code",
   "execution_count": 535,
   "metadata": {},
   "outputs": [
    {
     "data": {
      "image/png": "[encoded data removed]",
      "text/plain": [
       "<Figure size 432x288 with 1 Axes>"
      ]
     },
     "metadata": {
      "needs_background": "light"
     },
     "output_type": "display_data"
    }
   ],
   "source": [
    "univariate_plot(df_2, 'emp_length', 'cat')"
   ]
  },
  {
   "cell_type": "code",
   "execution_count": 356,
   "metadata": {},
   "outputs": [],
   "source": [
    "#plt.figure(figsize=(20,6))\n",
    "df_2.purpose.value_counts() \n",
    "label =  df_2.purpose.unique()\n",
    "#plt.bar(label, cnt, align='center', alpha=0.5)\n",
    "#plt.pie (cnt,  labels = label, shadow = True, autopct='%1.1f%%', startangle = 90)\n",
    "\n",
    "count = df.purpose.value_counts(normalize=True) * 100\n",
    "ax = count.plot(kind='barh', figsize=(6,3),fontsize=10, rot = 0)\n",
    "plt.figtext(0.2, 0.68, str(count[1].round(2))+'%', fontsize=10)\n",
    "plt.figtext(0.2, 0.3, str(count[0].round(2))+'%', fontsize=10)\n",
    "plt.title('{} Distribution'.format(pred), fontsize = 10)\n",
    "ax.xaxis.set_major_formatter(mtick.PercentFormatter())\n",
    "plt.show()"
   ]
  },
  {
   "cell_type": "code",
   "execution_count": 357,
   "metadata": {},
   "outputs": [
    {
     "data": {
      "text/plain": [
       "debt_consolidation    191134\n",
       "credit_card            64917\n",
       "home_improvement       25555\n",
       "other                  23213\n",
       "major_purchase          8351\n",
       "medical                 4599\n",
       "car                     3931\n",
       "small_business          3603\n",
       "vacation                2927\n",
       "moving                  2814\n",
       "house                   2040\n",
       "renewable_energy         262\n",
       "wedding                    1\n",
       "Name: purpose, dtype: int64"
      ]
     },
     "execution_count": 357,
     "metadata": {},
     "output_type": "execute_result"
    }
   ],
   "source": [
    "df_2.purpose.value_counts()."
   ]
  },
  {
   "cell_type": "code",
   "execution_count": 341,
   "metadata": {},
   "outputs": [
    {
     "data": {
      "text/plain": [
       "['debt_consolidation',\n",
       " 'credit_card',\n",
       " 'medical',\n",
       " 'other',\n",
       " 'moving',\n",
       " 'small_business',\n",
       " 'home_improvement',\n",
       " 'major_purchase',\n",
       " 'car',\n",
       " 'house',\n",
       " 'vacation',\n",
       " 'renewable_energy',\n",
       " 'wedding']"
      ]
     },
     "execution_count": 341,
     "metadata": {},
     "output_type": "execute_result"
    }
   ],
   "source": [
    "df_2.purpose.unique().tolist()"
   ]
  },
  {
   "cell_type": "code",
   "execution_count": null,
   "metadata": {},
   "outputs": [],
   "source": []
  },
  {
   "cell_type": "markdown",
   "metadata": {},
   "source": [
    "# Variable Modification "
   ]
  },
  {
   "cell_type": "markdown",
   "metadata": {},
   "source": [
    "# EDA"
   ]
  },
  {
   "cell_type": "markdown",
   "metadata": {},
   "source": [
    "# Modelling"
   ]
  },
  {
   "cell_type": "code",
   "execution_count": null,
   "metadata": {},
   "outputs": [],
   "source": []
  }
 ],
 "metadata": {
  "kernelspec": {
   "display_name": "Python 3",
   "language": "python",
   "name": "python3"
  },
  "language_info": {
   "codemirror_mode": {
    "name": "ipython",
    "version": 3
   },
   "file_extension": ".py",
   "mimetype": "text/x-python",
   "name": "python",
   "nbconvert_exporter": "python",
   "pygments_lexer": "ipython3",
   "version": "3.7.4"
  }
 },
 "nbformat": 4,
 "nbformat_minor": 2
}
